{
 "cells": [
  {
   "cell_type": "code",
   "execution_count": 29,
   "id": "91236d99",
   "metadata": {
    "ExecuteTime": {
     "end_time": "2023-03-17T01:39:26.843605Z",
     "start_time": "2023-03-17T01:39:26.816062Z"
    }
   },
   "outputs": [
    {
     "name": "stderr",
     "output_type": "stream",
     "text": [
      "/var/folders/5r/0f8bfrvn6_z4rmz0g0thdv900000gn/T/ipykernel_74080/2871383140.py:11: DeprecationWarning: BICUBIC is deprecated and will be removed in Pillow 10 (2023-07-01). Use Resampling.BICUBIC instead.\n",
      "  background.thumbnail((300, 300), resample=Image.BICUBIC)\n"
     ]
    }
   ],
   "source": [
    "from PIL import Image, ImageOps\n",
    "\n",
    "# Open the image file\n",
    "img = Image.open(\"funnel analysis.jpg\")\n",
    "\n",
    "# Add a white background to the image\n",
    "background = Image.new(\"RGB\", img.size, (255, 255, 255))\n",
    "background.paste(img, mask=img.split()[3] if img.mode == \"RGBA\" else None)\n",
    "\n",
    "# Resize the image while preserving its aspect ratio\n",
    "background.thumbnail((300, 300), resample=Image.BICUBIC)\n",
    "\n",
    "# Add padding to the image\n",
    "width, height = background.size\n",
    "if width < height:\n",
    "    # Add padding to the sides\n",
    "    new_width = height\n",
    "    left = (new_width - width) // 2\n",
    "    right = new_width - width - left\n",
    "    padding = (left, 0, right, 0)\n",
    "else:\n",
    "    # Add padding to the top and bottom\n",
    "    new_height = width\n",
    "    top = (new_height - height) // 2\n",
    "    bottom = new_height - height - top\n",
    "    padding = (0, top, 0, bottom)\n",
    "background = ImageOps.expand(background, padding, fill=(255, 255, 255))\n",
    "\n",
    "# Crop the center of the image to 300x300\n",
    "width, height = background.size\n",
    "left = (width - 300) // 2\n",
    "top = (height - 300) // 2\n",
    "right = left + 300\n",
    "bottom = top + 300\n",
    "background = background.crop((left, top, right, bottom))\n",
    "\n",
    "# Save the resized and cropped image\n",
    "background.save(\"funnel analysis.jpg\")\n"
   ]
  },
  {
   "cell_type": "code",
   "execution_count": null,
   "id": "7eec63f9",
   "metadata": {},
   "outputs": [],
   "source": []
  }
 ],
 "metadata": {
  "kernelspec": {
   "display_name": "Python 3 (ipykernel)",
   "language": "python",
   "name": "python3"
  },
  "language_info": {
   "codemirror_mode": {
    "name": "ipython",
    "version": 3
   },
   "file_extension": ".py",
   "mimetype": "text/x-python",
   "name": "python",
   "nbconvert_exporter": "python",
   "pygments_lexer": "ipython3",
   "version": "3.9.13"
  }
 },
 "nbformat": 4,
 "nbformat_minor": 5
}
